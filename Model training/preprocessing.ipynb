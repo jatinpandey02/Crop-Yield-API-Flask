{
 "cells": [
  {
   "cell_type": "code",
   "execution_count": 1,
   "metadata": {},
   "outputs": [],
   "source": [
    "import numpy as np \n",
    "import pandas as pd "
   ]
  },
  {
   "cell_type": "code",
   "execution_count": 2,
   "metadata": {},
   "outputs": [
    {
     "output_type": "execute_result",
     "data": {
      "text/plain": [
       "(56717, 12)"
      ]
     },
     "metadata": {},
     "execution_count": 2
    }
   ],
   "source": [
    "df_yield = pd.read_csv('yield.csv')\n",
    "df_yield.shape"
   ]
  },
  {
   "cell_type": "code",
   "execution_count": 3,
   "metadata": {
    "scrolled": true
   },
   "outputs": [
    {
     "output_type": "execute_result",
     "data": {
      "text/plain": [
       "  Domain Code Domain  Area Code         Area  Element Code Element  Item Code  \\\n",
       "0          QC  Crops          2  Afghanistan          5419   Yield         56   \n",
       "1          QC  Crops          2  Afghanistan          5419   Yield         56   \n",
       "2          QC  Crops          2  Afghanistan          5419   Yield         56   \n",
       "3          QC  Crops          2  Afghanistan          5419   Yield         56   \n",
       "4          QC  Crops          2  Afghanistan          5419   Yield         56   \n",
       "\n",
       "    Item  Year Code  Year   Unit  Value  \n",
       "0  Maize       1961  1961  hg/ha  14000  \n",
       "1  Maize       1962  1962  hg/ha  14000  \n",
       "2  Maize       1963  1963  hg/ha  14260  \n",
       "3  Maize       1964  1964  hg/ha  14257  \n",
       "4  Maize       1965  1965  hg/ha  14400  "
      ],
      "text/html": "<div>\n<style scoped>\n    .dataframe tbody tr th:only-of-type {\n        vertical-align: middle;\n    }\n\n    .dataframe tbody tr th {\n        vertical-align: top;\n    }\n\n    .dataframe thead th {\n        text-align: right;\n    }\n</style>\n<table border=\"1\" class=\"dataframe\">\n  <thead>\n    <tr style=\"text-align: right;\">\n      <th></th>\n      <th>Domain Code</th>\n      <th>Domain</th>\n      <th>Area Code</th>\n      <th>Area</th>\n      <th>Element Code</th>\n      <th>Element</th>\n      <th>Item Code</th>\n      <th>Item</th>\n      <th>Year Code</th>\n      <th>Year</th>\n      <th>Unit</th>\n      <th>Value</th>\n    </tr>\n  </thead>\n  <tbody>\n    <tr>\n      <th>0</th>\n      <td>QC</td>\n      <td>Crops</td>\n      <td>2</td>\n      <td>Afghanistan</td>\n      <td>5419</td>\n      <td>Yield</td>\n      <td>56</td>\n      <td>Maize</td>\n      <td>1961</td>\n      <td>1961</td>\n      <td>hg/ha</td>\n      <td>14000</td>\n    </tr>\n    <tr>\n      <th>1</th>\n      <td>QC</td>\n      <td>Crops</td>\n      <td>2</td>\n      <td>Afghanistan</td>\n      <td>5419</td>\n      <td>Yield</td>\n      <td>56</td>\n      <td>Maize</td>\n      <td>1962</td>\n      <td>1962</td>\n      <td>hg/ha</td>\n      <td>14000</td>\n    </tr>\n    <tr>\n      <th>2</th>\n      <td>QC</td>\n      <td>Crops</td>\n      <td>2</td>\n      <td>Afghanistan</td>\n      <td>5419</td>\n      <td>Yield</td>\n      <td>56</td>\n      <td>Maize</td>\n      <td>1963</td>\n      <td>1963</td>\n      <td>hg/ha</td>\n      <td>14260</td>\n    </tr>\n    <tr>\n      <th>3</th>\n      <td>QC</td>\n      <td>Crops</td>\n      <td>2</td>\n      <td>Afghanistan</td>\n      <td>5419</td>\n      <td>Yield</td>\n      <td>56</td>\n      <td>Maize</td>\n      <td>1964</td>\n      <td>1964</td>\n      <td>hg/ha</td>\n      <td>14257</td>\n    </tr>\n    <tr>\n      <th>4</th>\n      <td>QC</td>\n      <td>Crops</td>\n      <td>2</td>\n      <td>Afghanistan</td>\n      <td>5419</td>\n      <td>Yield</td>\n      <td>56</td>\n      <td>Maize</td>\n      <td>1965</td>\n      <td>1965</td>\n      <td>hg/ha</td>\n      <td>14400</td>\n    </tr>\n  </tbody>\n</table>\n</div>"
     },
     "metadata": {},
     "execution_count": 3
    }
   ],
   "source": [
    "df_yield.head()"
   ]
  },
  {
   "cell_type": "code",
   "execution_count": 5,
   "metadata": {
    "scrolled": true
   },
   "outputs": [
    {
     "output_type": "execute_result",
     "data": {
      "text/plain": [
       "  Domain Code Domain  Area Code         Area  Element Code Element  Item Code  \\\n",
       "0          QC  Crops          2  Afghanistan          5419   Yield         56   \n",
       "1          QC  Crops          2  Afghanistan          5419   Yield         56   \n",
       "2          QC  Crops          2  Afghanistan          5419   Yield         56   \n",
       "3          QC  Crops          2  Afghanistan          5419   Yield         56   \n",
       "4          QC  Crops          2  Afghanistan          5419   Yield         56   \n",
       "\n",
       "    Item  Year Code  Year   Unit  hg/ha_yield  \n",
       "0  Maize       1961  1961  hg/ha        14000  \n",
       "1  Maize       1962  1962  hg/ha        14000  \n",
       "2  Maize       1963  1963  hg/ha        14260  \n",
       "3  Maize       1964  1964  hg/ha        14257  \n",
       "4  Maize       1965  1965  hg/ha        14400  "
      ],
      "text/html": "<div>\n<style scoped>\n    .dataframe tbody tr th:only-of-type {\n        vertical-align: middle;\n    }\n\n    .dataframe tbody tr th {\n        vertical-align: top;\n    }\n\n    .dataframe thead th {\n        text-align: right;\n    }\n</style>\n<table border=\"1\" class=\"dataframe\">\n  <thead>\n    <tr style=\"text-align: right;\">\n      <th></th>\n      <th>Domain Code</th>\n      <th>Domain</th>\n      <th>Area Code</th>\n      <th>Area</th>\n      <th>Element Code</th>\n      <th>Element</th>\n      <th>Item Code</th>\n      <th>Item</th>\n      <th>Year Code</th>\n      <th>Year</th>\n      <th>Unit</th>\n      <th>hg/ha_yield</th>\n    </tr>\n  </thead>\n  <tbody>\n    <tr>\n      <th>0</th>\n      <td>QC</td>\n      <td>Crops</td>\n      <td>2</td>\n      <td>Afghanistan</td>\n      <td>5419</td>\n      <td>Yield</td>\n      <td>56</td>\n      <td>Maize</td>\n      <td>1961</td>\n      <td>1961</td>\n      <td>hg/ha</td>\n      <td>14000</td>\n    </tr>\n    <tr>\n      <th>1</th>\n      <td>QC</td>\n      <td>Crops</td>\n      <td>2</td>\n      <td>Afghanistan</td>\n      <td>5419</td>\n      <td>Yield</td>\n      <td>56</td>\n      <td>Maize</td>\n      <td>1962</td>\n      <td>1962</td>\n      <td>hg/ha</td>\n      <td>14000</td>\n    </tr>\n    <tr>\n      <th>2</th>\n      <td>QC</td>\n      <td>Crops</td>\n      <td>2</td>\n      <td>Afghanistan</td>\n      <td>5419</td>\n      <td>Yield</td>\n      <td>56</td>\n      <td>Maize</td>\n      <td>1963</td>\n      <td>1963</td>\n      <td>hg/ha</td>\n      <td>14260</td>\n    </tr>\n    <tr>\n      <th>3</th>\n      <td>QC</td>\n      <td>Crops</td>\n      <td>2</td>\n      <td>Afghanistan</td>\n      <td>5419</td>\n      <td>Yield</td>\n      <td>56</td>\n      <td>Maize</td>\n      <td>1964</td>\n      <td>1964</td>\n      <td>hg/ha</td>\n      <td>14257</td>\n    </tr>\n    <tr>\n      <th>4</th>\n      <td>QC</td>\n      <td>Crops</td>\n      <td>2</td>\n      <td>Afghanistan</td>\n      <td>5419</td>\n      <td>Yield</td>\n      <td>56</td>\n      <td>Maize</td>\n      <td>1965</td>\n      <td>1965</td>\n      <td>hg/ha</td>\n      <td>14400</td>\n    </tr>\n  </tbody>\n</table>\n</div>"
     },
     "metadata": {},
     "execution_count": 5
    }
   ],
   "source": [
    "# rename columns.\n",
    "df_yield = df_yield.rename(index=str, columns={\"Value\": \"hg/ha_yield\"})\n",
    "df_yield.head()"
   ]
  },
  {
   "cell_type": "code",
   "execution_count": 6,
   "metadata": {
    "scrolled": false
   },
   "outputs": [
    {
     "output_type": "execute_result",
     "data": {
      "text/plain": [
       "          Area   Item  Year  hg/ha_yield\n",
       "0  Afghanistan  Maize  1961        14000\n",
       "1  Afghanistan  Maize  1962        14000\n",
       "2  Afghanistan  Maize  1963        14260\n",
       "3  Afghanistan  Maize  1964        14257\n",
       "4  Afghanistan  Maize  1965        14400"
      ],
      "text/html": "<div>\n<style scoped>\n    .dataframe tbody tr th:only-of-type {\n        vertical-align: middle;\n    }\n\n    .dataframe tbody tr th {\n        vertical-align: top;\n    }\n\n    .dataframe thead th {\n        text-align: right;\n    }\n</style>\n<table border=\"1\" class=\"dataframe\">\n  <thead>\n    <tr style=\"text-align: right;\">\n      <th></th>\n      <th>Area</th>\n      <th>Item</th>\n      <th>Year</th>\n      <th>hg/ha_yield</th>\n    </tr>\n  </thead>\n  <tbody>\n    <tr>\n      <th>0</th>\n      <td>Afghanistan</td>\n      <td>Maize</td>\n      <td>1961</td>\n      <td>14000</td>\n    </tr>\n    <tr>\n      <th>1</th>\n      <td>Afghanistan</td>\n      <td>Maize</td>\n      <td>1962</td>\n      <td>14000</td>\n    </tr>\n    <tr>\n      <th>2</th>\n      <td>Afghanistan</td>\n      <td>Maize</td>\n      <td>1963</td>\n      <td>14260</td>\n    </tr>\n    <tr>\n      <th>3</th>\n      <td>Afghanistan</td>\n      <td>Maize</td>\n      <td>1964</td>\n      <td>14257</td>\n    </tr>\n    <tr>\n      <th>4</th>\n      <td>Afghanistan</td>\n      <td>Maize</td>\n      <td>1965</td>\n      <td>14400</td>\n    </tr>\n  </tbody>\n</table>\n</div>"
     },
     "metadata": {},
     "execution_count": 6
    }
   ],
   "source": [
    "# drop unwanted columns.\n",
    "df_yield = df_yield.drop(['Year Code','Element Code','Element','Year Code','Area Code','Domain Code','Domain','Unit','Item Code'], axis=1)\n",
    "df_yield.head()"
   ]
  },
  {
   "cell_type": "code",
   "execution_count": 7,
   "metadata": {
    "scrolled": true
   },
   "outputs": [
    {
     "output_type": "execute_result",
     "data": {
      "text/plain": [
       "               Year     hg/ha_yield\n",
       "count  56717.000000    56717.000000\n",
       "mean    1989.669570    62094.660084\n",
       "std       16.133198    67835.932856\n",
       "min     1961.000000        0.000000\n",
       "25%     1976.000000    15680.000000\n",
       "50%     1991.000000    36744.000000\n",
       "75%     2004.000000    86213.000000\n",
       "max     2016.000000  1000000.000000"
      ],
      "text/html": "<div>\n<style scoped>\n    .dataframe tbody tr th:only-of-type {\n        vertical-align: middle;\n    }\n\n    .dataframe tbody tr th {\n        vertical-align: top;\n    }\n\n    .dataframe thead th {\n        text-align: right;\n    }\n</style>\n<table border=\"1\" class=\"dataframe\">\n  <thead>\n    <tr style=\"text-align: right;\">\n      <th></th>\n      <th>Year</th>\n      <th>hg/ha_yield</th>\n    </tr>\n  </thead>\n  <tbody>\n    <tr>\n      <th>count</th>\n      <td>56717.000000</td>\n      <td>56717.000000</td>\n    </tr>\n    <tr>\n      <th>mean</th>\n      <td>1989.669570</td>\n      <td>62094.660084</td>\n    </tr>\n    <tr>\n      <th>std</th>\n      <td>16.133198</td>\n      <td>67835.932856</td>\n    </tr>\n    <tr>\n      <th>min</th>\n      <td>1961.000000</td>\n      <td>0.000000</td>\n    </tr>\n    <tr>\n      <th>25%</th>\n      <td>1976.000000</td>\n      <td>15680.000000</td>\n    </tr>\n    <tr>\n      <th>50%</th>\n      <td>1991.000000</td>\n      <td>36744.000000</td>\n    </tr>\n    <tr>\n      <th>75%</th>\n      <td>2004.000000</td>\n      <td>86213.000000</td>\n    </tr>\n    <tr>\n      <th>max</th>\n      <td>2016.000000</td>\n      <td>1000000.000000</td>\n    </tr>\n  </tbody>\n</table>\n</div>"
     },
     "metadata": {},
     "execution_count": 7
    }
   ],
   "source": [
    "df_yield.describe()"
   ]
  },
  {
   "cell_type": "code",
   "execution_count": 8,
   "metadata": {},
   "outputs": [
    {
     "output_type": "stream",
     "name": "stdout",
     "text": [
      "<class 'pandas.core.frame.DataFrame'>\nIndex: 56717 entries, 0 to 56716\nData columns (total 4 columns):\n #   Column       Non-Null Count  Dtype \n---  ------       --------------  ----- \n 0   Area         56717 non-null  object\n 1   Item         56717 non-null  object\n 2   Year         56717 non-null  int64 \n 3   hg/ha_yield  56717 non-null  int64 \ndtypes: int64(2), object(2)\nmemory usage: 2.2+ MB\n"
     ]
    }
   ],
   "source": [
    "df_yield.info()"
   ]
  },
  {
   "cell_type": "code",
   "execution_count": 9,
   "metadata": {
    "scrolled": true
   },
   "outputs": [
    {
     "output_type": "execute_result",
     "data": {
      "text/plain": [
       "          Area  Year average_rain_fall_mm_per_year\n",
       "0  Afghanistan  1985                           327\n",
       "1  Afghanistan  1986                           327\n",
       "2  Afghanistan  1987                           327\n",
       "3  Afghanistan  1989                           327\n",
       "4  Afghanistan  1990                           327"
      ],
      "text/html": "<div>\n<style scoped>\n    .dataframe tbody tr th:only-of-type {\n        vertical-align: middle;\n    }\n\n    .dataframe tbody tr th {\n        vertical-align: top;\n    }\n\n    .dataframe thead th {\n        text-align: right;\n    }\n</style>\n<table border=\"1\" class=\"dataframe\">\n  <thead>\n    <tr style=\"text-align: right;\">\n      <th></th>\n      <th>Area</th>\n      <th>Year</th>\n      <th>average_rain_fall_mm_per_year</th>\n    </tr>\n  </thead>\n  <tbody>\n    <tr>\n      <th>0</th>\n      <td>Afghanistan</td>\n      <td>1985</td>\n      <td>327</td>\n    </tr>\n    <tr>\n      <th>1</th>\n      <td>Afghanistan</td>\n      <td>1986</td>\n      <td>327</td>\n    </tr>\n    <tr>\n      <th>2</th>\n      <td>Afghanistan</td>\n      <td>1987</td>\n      <td>327</td>\n    </tr>\n    <tr>\n      <th>3</th>\n      <td>Afghanistan</td>\n      <td>1989</td>\n      <td>327</td>\n    </tr>\n    <tr>\n      <th>4</th>\n      <td>Afghanistan</td>\n      <td>1990</td>\n      <td>327</td>\n    </tr>\n  </tbody>\n</table>\n</div>"
     },
     "metadata": {},
     "execution_count": 9
    }
   ],
   "source": [
    "df_rain = pd.read_csv('rainfall.csv')\n",
    "df_rain.head()"
   ]
  },
  {
   "cell_type": "code",
   "execution_count": 10,
   "metadata": {},
   "outputs": [],
   "source": [
    "df_rain = df_rain.rename(index=str, columns={\" Area\": 'Area'})"
   ]
  },
  {
   "cell_type": "code",
   "execution_count": 11,
   "metadata": {
    "scrolled": true
   },
   "outputs": [
    {
     "output_type": "stream",
     "name": "stdout",
     "text": [
      "<class 'pandas.core.frame.DataFrame'>\nIndex: 6727 entries, 0 to 6726\nData columns (total 3 columns):\n #   Column                         Non-Null Count  Dtype \n---  ------                         --------------  ----- \n 0   Area                           6727 non-null   object\n 1   Year                           6727 non-null   int64 \n 2   average_rain_fall_mm_per_year  5953 non-null   object\ndtypes: int64(1), object(2)\nmemory usage: 210.2+ KB\n"
     ]
    }
   ],
   "source": [
    "# check data types \n",
    "df_rain.info()"
   ]
  },
  {
   "cell_type": "code",
   "execution_count": 21,
   "metadata": {
    "scrolled": true
   },
   "outputs": [
    {
     "output_type": "stream",
     "name": "stdout",
     "text": [
      "<class 'pandas.core.frame.DataFrame'>\nIndex: 5953 entries, 0 to 6726\nData columns (total 3 columns):\n #   Column                         Non-Null Count  Dtype  \n---  ------                         --------------  -----  \n 0   Area                           5953 non-null   object \n 1   Year                           5953 non-null   int64  \n 2   average_rain_fall_mm_per_year  5947 non-null   float64\ndtypes: float64(1), int64(1), object(1)\nmemory usage: 346.0+ KB\n"
     ]
    }
   ],
   "source": [
    "# convert average_rain_fall_mm_per_year from object to float\n",
    "df_rain['average_rain_fall_mm_per_year'] = pd.to_numeric(df_rain['average_rain_fall_mm_per_year'],errors='coerce')\n",
    "df_rain.info()"
   ]
  },
  {
   "cell_type": "code",
   "execution_count": 23,
   "metadata": {},
   "outputs": [],
   "source": [
    "df_rain = df_rain.dropna()"
   ]
  },
  {
   "cell_type": "code",
   "execution_count": 24,
   "metadata": {
    "scrolled": true
   },
   "outputs": [
    {
     "output_type": "execute_result",
     "data": {
      "text/plain": [
       "              Year  average_rain_fall_mm_per_year\n",
       "count  5947.000000                    5947.000000\n",
       "mean   2001.365899                    1124.743232\n",
       "std       9.526335                     786.257365\n",
       "min    1985.000000                      51.000000\n",
       "25%    1993.000000                     534.000000\n",
       "50%    2001.000000                    1010.000000\n",
       "75%    2010.000000                    1651.000000\n",
       "max    2017.000000                    3240.000000"
      ],
      "text/html": "<div>\n<style scoped>\n    .dataframe tbody tr th:only-of-type {\n        vertical-align: middle;\n    }\n\n    .dataframe tbody tr th {\n        vertical-align: top;\n    }\n\n    .dataframe thead th {\n        text-align: right;\n    }\n</style>\n<table border=\"1\" class=\"dataframe\">\n  <thead>\n    <tr style=\"text-align: right;\">\n      <th></th>\n      <th>Year</th>\n      <th>average_rain_fall_mm_per_year</th>\n    </tr>\n  </thead>\n  <tbody>\n    <tr>\n      <th>count</th>\n      <td>5947.000000</td>\n      <td>5947.000000</td>\n    </tr>\n    <tr>\n      <th>mean</th>\n      <td>2001.365899</td>\n      <td>1124.743232</td>\n    </tr>\n    <tr>\n      <th>std</th>\n      <td>9.526335</td>\n      <td>786.257365</td>\n    </tr>\n    <tr>\n      <th>min</th>\n      <td>1985.000000</td>\n      <td>51.000000</td>\n    </tr>\n    <tr>\n      <th>25%</th>\n      <td>1993.000000</td>\n      <td>534.000000</td>\n    </tr>\n    <tr>\n      <th>50%</th>\n      <td>2001.000000</td>\n      <td>1010.000000</td>\n    </tr>\n    <tr>\n      <th>75%</th>\n      <td>2010.000000</td>\n      <td>1651.000000</td>\n    </tr>\n    <tr>\n      <th>max</th>\n      <td>2017.000000</td>\n      <td>3240.000000</td>\n    </tr>\n  </tbody>\n</table>\n</div>"
     },
     "metadata": {},
     "execution_count": 24
    }
   ],
   "source": [
    "df_rain.describe()"
   ]
  },
  {
   "cell_type": "code",
   "execution_count": 25,
   "metadata": {},
   "outputs": [],
   "source": [
    "# merge yield dataframe with rain dataframe by year and area columns \n",
    "yield_df = pd.merge(df_yield, df_rain, on=['Year','Area'])"
   ]
  },
  {
   "cell_type": "code",
   "execution_count": 26,
   "metadata": {
    "scrolled": false
   },
   "outputs": [
    {
     "output_type": "execute_result",
     "data": {
      "text/plain": [
       "(25385, 5)"
      ]
     },
     "metadata": {},
     "execution_count": 26
    }
   ],
   "source": [
    "yield_df.shape"
   ]
  },
  {
   "cell_type": "code",
   "execution_count": 27,
   "metadata": {
    "scrolled": true
   },
   "outputs": [
    {
     "output_type": "execute_result",
     "data": {
      "text/plain": [
       "          Area         Item  Year  hg/ha_yield  average_rain_fall_mm_per_year\n",
       "0  Afghanistan        Maize  1985        16652                          327.0\n",
       "1  Afghanistan     Potatoes  1985       140909                          327.0\n",
       "2  Afghanistan  Rice, paddy  1985        22482                          327.0\n",
       "3  Afghanistan        Wheat  1985        12277                          327.0\n",
       "4  Afghanistan        Maize  1986        16875                          327.0"
      ],
      "text/html": "<div>\n<style scoped>\n    .dataframe tbody tr th:only-of-type {\n        vertical-align: middle;\n    }\n\n    .dataframe tbody tr th {\n        vertical-align: top;\n    }\n\n    .dataframe thead th {\n        text-align: right;\n    }\n</style>\n<table border=\"1\" class=\"dataframe\">\n  <thead>\n    <tr style=\"text-align: right;\">\n      <th></th>\n      <th>Area</th>\n      <th>Item</th>\n      <th>Year</th>\n      <th>hg/ha_yield</th>\n      <th>average_rain_fall_mm_per_year</th>\n    </tr>\n  </thead>\n  <tbody>\n    <tr>\n      <th>0</th>\n      <td>Afghanistan</td>\n      <td>Maize</td>\n      <td>1985</td>\n      <td>16652</td>\n      <td>327.0</td>\n    </tr>\n    <tr>\n      <th>1</th>\n      <td>Afghanistan</td>\n      <td>Potatoes</td>\n      <td>1985</td>\n      <td>140909</td>\n      <td>327.0</td>\n    </tr>\n    <tr>\n      <th>2</th>\n      <td>Afghanistan</td>\n      <td>Rice, paddy</td>\n      <td>1985</td>\n      <td>22482</td>\n      <td>327.0</td>\n    </tr>\n    <tr>\n      <th>3</th>\n      <td>Afghanistan</td>\n      <td>Wheat</td>\n      <td>1985</td>\n      <td>12277</td>\n      <td>327.0</td>\n    </tr>\n    <tr>\n      <th>4</th>\n      <td>Afghanistan</td>\n      <td>Maize</td>\n      <td>1986</td>\n      <td>16875</td>\n      <td>327.0</td>\n    </tr>\n  </tbody>\n</table>\n</div>"
     },
     "metadata": {},
     "execution_count": 27
    }
   ],
   "source": [
    "yield_df.head()"
   ]
  },
  {
   "cell_type": "code",
   "execution_count": 28,
   "metadata": {
    "scrolled": true
   },
   "outputs": [
    {
     "output_type": "execute_result",
     "data": {
      "text/plain": [
       "               Year    hg/ha_yield  average_rain_fall_mm_per_year\n",
       "count  25385.000000   25385.000000                   25385.000000\n",
       "mean    2001.278787   68312.278353                    1254.849754\n",
       "std        9.143915   75213.292733                     804.449430\n",
       "min     1985.000000      50.000000                      51.000000\n",
       "25%     1994.000000   17432.000000                     630.000000\n",
       "50%     2001.000000   38750.000000                    1150.000000\n",
       "75%     2009.000000   94286.000000                    1761.000000\n",
       "max     2016.000000  554855.000000                    3240.000000"
      ],
      "text/html": "<div>\n<style scoped>\n    .dataframe tbody tr th:only-of-type {\n        vertical-align: middle;\n    }\n\n    .dataframe tbody tr th {\n        vertical-align: top;\n    }\n\n    .dataframe thead th {\n        text-align: right;\n    }\n</style>\n<table border=\"1\" class=\"dataframe\">\n  <thead>\n    <tr style=\"text-align: right;\">\n      <th></th>\n      <th>Year</th>\n      <th>hg/ha_yield</th>\n      <th>average_rain_fall_mm_per_year</th>\n    </tr>\n  </thead>\n  <tbody>\n    <tr>\n      <th>count</th>\n      <td>25385.000000</td>\n      <td>25385.000000</td>\n      <td>25385.000000</td>\n    </tr>\n    <tr>\n      <th>mean</th>\n      <td>2001.278787</td>\n      <td>68312.278353</td>\n      <td>1254.849754</td>\n    </tr>\n    <tr>\n      <th>std</th>\n      <td>9.143915</td>\n      <td>75213.292733</td>\n      <td>804.449430</td>\n    </tr>\n    <tr>\n      <th>min</th>\n      <td>1985.000000</td>\n      <td>50.000000</td>\n      <td>51.000000</td>\n    </tr>\n    <tr>\n      <th>25%</th>\n      <td>1994.000000</td>\n      <td>17432.000000</td>\n      <td>630.000000</td>\n    </tr>\n    <tr>\n      <th>50%</th>\n      <td>2001.000000</td>\n      <td>38750.000000</td>\n      <td>1150.000000</td>\n    </tr>\n    <tr>\n      <th>75%</th>\n      <td>2009.000000</td>\n      <td>94286.000000</td>\n      <td>1761.000000</td>\n    </tr>\n    <tr>\n      <th>max</th>\n      <td>2016.000000</td>\n      <td>554855.000000</td>\n      <td>3240.000000</td>\n    </tr>\n  </tbody>\n</table>\n</div>"
     },
     "metadata": {},
     "execution_count": 28
    }
   ],
   "source": [
    "yield_df.describe()"
   ]
  },
  {
   "cell_type": "code",
   "execution_count": 29,
   "metadata": {},
   "outputs": [
    {
     "output_type": "execute_result",
     "data": {
      "text/plain": [
       "           Domain     Area Element                Item  Year  \\\n",
       "0  Pesticides Use  Albania     Use  Pesticides (total)  1990   \n",
       "1  Pesticides Use  Albania     Use  Pesticides (total)  1991   \n",
       "2  Pesticides Use  Albania     Use  Pesticides (total)  1992   \n",
       "3  Pesticides Use  Albania     Use  Pesticides (total)  1993   \n",
       "4  Pesticides Use  Albania     Use  Pesticides (total)  1994   \n",
       "\n",
       "                           Unit  Value  \n",
       "0  tonnes of active ingredients  121.0  \n",
       "1  tonnes of active ingredients  121.0  \n",
       "2  tonnes of active ingredients  121.0  \n",
       "3  tonnes of active ingredients  121.0  \n",
       "4  tonnes of active ingredients  201.0  "
      ],
      "text/html": "<div>\n<style scoped>\n    .dataframe tbody tr th:only-of-type {\n        vertical-align: middle;\n    }\n\n    .dataframe tbody tr th {\n        vertical-align: top;\n    }\n\n    .dataframe thead th {\n        text-align: right;\n    }\n</style>\n<table border=\"1\" class=\"dataframe\">\n  <thead>\n    <tr style=\"text-align: right;\">\n      <th></th>\n      <th>Domain</th>\n      <th>Area</th>\n      <th>Element</th>\n      <th>Item</th>\n      <th>Year</th>\n      <th>Unit</th>\n      <th>Value</th>\n    </tr>\n  </thead>\n  <tbody>\n    <tr>\n      <th>0</th>\n      <td>Pesticides Use</td>\n      <td>Albania</td>\n      <td>Use</td>\n      <td>Pesticides (total)</td>\n      <td>1990</td>\n      <td>tonnes of active ingredients</td>\n      <td>121.0</td>\n    </tr>\n    <tr>\n      <th>1</th>\n      <td>Pesticides Use</td>\n      <td>Albania</td>\n      <td>Use</td>\n      <td>Pesticides (total)</td>\n      <td>1991</td>\n      <td>tonnes of active ingredients</td>\n      <td>121.0</td>\n    </tr>\n    <tr>\n      <th>2</th>\n      <td>Pesticides Use</td>\n      <td>Albania</td>\n      <td>Use</td>\n      <td>Pesticides (total)</td>\n      <td>1992</td>\n      <td>tonnes of active ingredients</td>\n      <td>121.0</td>\n    </tr>\n    <tr>\n      <th>3</th>\n      <td>Pesticides Use</td>\n      <td>Albania</td>\n      <td>Use</td>\n      <td>Pesticides (total)</td>\n      <td>1993</td>\n      <td>tonnes of active ingredients</td>\n      <td>121.0</td>\n    </tr>\n    <tr>\n      <th>4</th>\n      <td>Pesticides Use</td>\n      <td>Albania</td>\n      <td>Use</td>\n      <td>Pesticides (total)</td>\n      <td>1994</td>\n      <td>tonnes of active ingredients</td>\n      <td>201.0</td>\n    </tr>\n  </tbody>\n</table>\n</div>"
     },
     "metadata": {},
     "execution_count": 29
    }
   ],
   "source": [
    "df_pes = pd.read_csv('pesticides.csv')\n",
    "df_pes.head()"
   ]
  },
  {
   "cell_type": "code",
   "execution_count": 30,
   "metadata": {},
   "outputs": [
    {
     "output_type": "execute_result",
     "data": {
      "text/plain": [
       "      Area  Year  pesticides_tonnes\n",
       "0  Albania  1990              121.0\n",
       "1  Albania  1991              121.0\n",
       "2  Albania  1992              121.0\n",
       "3  Albania  1993              121.0\n",
       "4  Albania  1994              201.0"
      ],
      "text/html": "<div>\n<style scoped>\n    .dataframe tbody tr th:only-of-type {\n        vertical-align: middle;\n    }\n\n    .dataframe tbody tr th {\n        vertical-align: top;\n    }\n\n    .dataframe thead th {\n        text-align: right;\n    }\n</style>\n<table border=\"1\" class=\"dataframe\">\n  <thead>\n    <tr style=\"text-align: right;\">\n      <th></th>\n      <th>Area</th>\n      <th>Year</th>\n      <th>pesticides_tonnes</th>\n    </tr>\n  </thead>\n  <tbody>\n    <tr>\n      <th>0</th>\n      <td>Albania</td>\n      <td>1990</td>\n      <td>121.0</td>\n    </tr>\n    <tr>\n      <th>1</th>\n      <td>Albania</td>\n      <td>1991</td>\n      <td>121.0</td>\n    </tr>\n    <tr>\n      <th>2</th>\n      <td>Albania</td>\n      <td>1992</td>\n      <td>121.0</td>\n    </tr>\n    <tr>\n      <th>3</th>\n      <td>Albania</td>\n      <td>1993</td>\n      <td>121.0</td>\n    </tr>\n    <tr>\n      <th>4</th>\n      <td>Albania</td>\n      <td>1994</td>\n      <td>201.0</td>\n    </tr>\n  </tbody>\n</table>\n</div>"
     },
     "metadata": {},
     "execution_count": 30
    }
   ],
   "source": [
    "df_pes = df_pes.rename(index=str, columns={\"Value\": \"pesticides_tonnes\"})\n",
    "df_pes = df_pes.drop(['Element','Domain','Unit','Item'], axis=1)\n",
    "df_pes.head()"
   ]
  },
  {
   "cell_type": "code",
   "execution_count": 31,
   "metadata": {
    "scrolled": true
   },
   "outputs": [
    {
     "output_type": "execute_result",
     "data": {
      "text/plain": [
       "              Year  pesticides_tonnes\n",
       "count  4349.000000       4.349000e+03\n",
       "mean   2003.138883       2.030334e+04\n",
       "std       7.728044       1.177362e+05\n",
       "min    1990.000000       0.000000e+00\n",
       "25%    1996.000000       9.300000e+01\n",
       "50%    2003.000000       1.137560e+03\n",
       "75%    2010.000000       7.869000e+03\n",
       "max    2016.000000       1.807000e+06"
      ],
      "text/html": "<div>\n<style scoped>\n    .dataframe tbody tr th:only-of-type {\n        vertical-align: middle;\n    }\n\n    .dataframe tbody tr th {\n        vertical-align: top;\n    }\n\n    .dataframe thead th {\n        text-align: right;\n    }\n</style>\n<table border=\"1\" class=\"dataframe\">\n  <thead>\n    <tr style=\"text-align: right;\">\n      <th></th>\n      <th>Year</th>\n      <th>pesticides_tonnes</th>\n    </tr>\n  </thead>\n  <tbody>\n    <tr>\n      <th>count</th>\n      <td>4349.000000</td>\n      <td>4.349000e+03</td>\n    </tr>\n    <tr>\n      <th>mean</th>\n      <td>2003.138883</td>\n      <td>2.030334e+04</td>\n    </tr>\n    <tr>\n      <th>std</th>\n      <td>7.728044</td>\n      <td>1.177362e+05</td>\n    </tr>\n    <tr>\n      <th>min</th>\n      <td>1990.000000</td>\n      <td>0.000000e+00</td>\n    </tr>\n    <tr>\n      <th>25%</th>\n      <td>1996.000000</td>\n      <td>9.300000e+01</td>\n    </tr>\n    <tr>\n      <th>50%</th>\n      <td>2003.000000</td>\n      <td>1.137560e+03</td>\n    </tr>\n    <tr>\n      <th>75%</th>\n      <td>2010.000000</td>\n      <td>7.869000e+03</td>\n    </tr>\n    <tr>\n      <th>max</th>\n      <td>2016.000000</td>\n      <td>1.807000e+06</td>\n    </tr>\n  </tbody>\n</table>\n</div>"
     },
     "metadata": {},
     "execution_count": 31
    }
   ],
   "source": [
    "df_pes.describe()"
   ]
  },
  {
   "cell_type": "code",
   "execution_count": 32,
   "metadata": {},
   "outputs": [
    {
     "output_type": "stream",
     "name": "stdout",
     "text": [
      "<class 'pandas.core.frame.DataFrame'>\nIndex: 4349 entries, 0 to 4348\nData columns (total 3 columns):\n #   Column             Non-Null Count  Dtype  \n---  ------             --------------  -----  \n 0   Area               4349 non-null   object \n 1   Year               4349 non-null   int64  \n 2   pesticides_tonnes  4349 non-null   float64\ndtypes: float64(1), int64(1), object(1)\nmemory usage: 135.9+ KB\n"
     ]
    }
   ],
   "source": [
    "df_pes.info()"
   ]
  },
  {
   "cell_type": "code",
   "execution_count": 33,
   "metadata": {},
   "outputs": [
    {
     "output_type": "execute_result",
     "data": {
      "text/plain": [
       "(18949, 6)"
      ]
     },
     "metadata": {},
     "execution_count": 33
    }
   ],
   "source": [
    "# merge Pesticides dataframe with yield dataframe \n",
    "yield_df = pd.merge(yield_df, df_pes, on=['Year','Area'])\n",
    "yield_df.shape"
   ]
  },
  {
   "cell_type": "code",
   "execution_count": 34,
   "metadata": {
    "scrolled": true
   },
   "outputs": [
    {
     "output_type": "execute_result",
     "data": {
      "text/plain": [
       "      Area         Item  Year  hg/ha_yield  average_rain_fall_mm_per_year  \\\n",
       "0  Albania        Maize  1990        36613                         1485.0   \n",
       "1  Albania     Potatoes  1990        66667                         1485.0   \n",
       "2  Albania  Rice, paddy  1990        23333                         1485.0   \n",
       "3  Albania      Sorghum  1990        12500                         1485.0   \n",
       "4  Albania     Soybeans  1990         7000                         1485.0   \n",
       "\n",
       "   pesticides_tonnes  \n",
       "0              121.0  \n",
       "1              121.0  \n",
       "2              121.0  \n",
       "3              121.0  \n",
       "4              121.0  "
      ],
      "text/html": "<div>\n<style scoped>\n    .dataframe tbody tr th:only-of-type {\n        vertical-align: middle;\n    }\n\n    .dataframe tbody tr th {\n        vertical-align: top;\n    }\n\n    .dataframe thead th {\n        text-align: right;\n    }\n</style>\n<table border=\"1\" class=\"dataframe\">\n  <thead>\n    <tr style=\"text-align: right;\">\n      <th></th>\n      <th>Area</th>\n      <th>Item</th>\n      <th>Year</th>\n      <th>hg/ha_yield</th>\n      <th>average_rain_fall_mm_per_year</th>\n      <th>pesticides_tonnes</th>\n    </tr>\n  </thead>\n  <tbody>\n    <tr>\n      <th>0</th>\n      <td>Albania</td>\n      <td>Maize</td>\n      <td>1990</td>\n      <td>36613</td>\n      <td>1485.0</td>\n      <td>121.0</td>\n    </tr>\n    <tr>\n      <th>1</th>\n      <td>Albania</td>\n      <td>Potatoes</td>\n      <td>1990</td>\n      <td>66667</td>\n      <td>1485.0</td>\n      <td>121.0</td>\n    </tr>\n    <tr>\n      <th>2</th>\n      <td>Albania</td>\n      <td>Rice, paddy</td>\n      <td>1990</td>\n      <td>23333</td>\n      <td>1485.0</td>\n      <td>121.0</td>\n    </tr>\n    <tr>\n      <th>3</th>\n      <td>Albania</td>\n      <td>Sorghum</td>\n      <td>1990</td>\n      <td>12500</td>\n      <td>1485.0</td>\n      <td>121.0</td>\n    </tr>\n    <tr>\n      <th>4</th>\n      <td>Albania</td>\n      <td>Soybeans</td>\n      <td>1990</td>\n      <td>7000</td>\n      <td>1485.0</td>\n      <td>121.0</td>\n    </tr>\n  </tbody>\n</table>\n</div>"
     },
     "metadata": {},
     "execution_count": 34
    }
   ],
   "source": [
    "yield_df.head()"
   ]
  },
  {
   "cell_type": "code",
   "execution_count": 35,
   "metadata": {},
   "outputs": [],
   "source": [
    "avg_temp=  pd.read_csv('temp.csv')"
   ]
  },
  {
   "cell_type": "code",
   "execution_count": 36,
   "metadata": {
    "scrolled": true
   },
   "outputs": [
    {
     "output_type": "execute_result",
     "data": {
      "text/plain": [
       "   year        country  avg_temp\n",
       "0  1849  Côte D'Ivoire     25.58\n",
       "1  1850  Côte D'Ivoire     25.52\n",
       "2  1851  Côte D'Ivoire     25.67\n",
       "3  1852  Côte D'Ivoire       NaN\n",
       "4  1853  Côte D'Ivoire       NaN"
      ],
      "text/html": "<div>\n<style scoped>\n    .dataframe tbody tr th:only-of-type {\n        vertical-align: middle;\n    }\n\n    .dataframe tbody tr th {\n        vertical-align: top;\n    }\n\n    .dataframe thead th {\n        text-align: right;\n    }\n</style>\n<table border=\"1\" class=\"dataframe\">\n  <thead>\n    <tr style=\"text-align: right;\">\n      <th></th>\n      <th>year</th>\n      <th>country</th>\n      <th>avg_temp</th>\n    </tr>\n  </thead>\n  <tbody>\n    <tr>\n      <th>0</th>\n      <td>1849</td>\n      <td>Côte D'Ivoire</td>\n      <td>25.58</td>\n    </tr>\n    <tr>\n      <th>1</th>\n      <td>1850</td>\n      <td>Côte D'Ivoire</td>\n      <td>25.52</td>\n    </tr>\n    <tr>\n      <th>2</th>\n      <td>1851</td>\n      <td>Côte D'Ivoire</td>\n      <td>25.67</td>\n    </tr>\n    <tr>\n      <th>3</th>\n      <td>1852</td>\n      <td>Côte D'Ivoire</td>\n      <td>NaN</td>\n    </tr>\n    <tr>\n      <th>4</th>\n      <td>1853</td>\n      <td>Côte D'Ivoire</td>\n      <td>NaN</td>\n    </tr>\n  </tbody>\n</table>\n</div>"
     },
     "metadata": {},
     "execution_count": 36
    }
   ],
   "source": [
    "avg_temp.head()"
   ]
  },
  {
   "cell_type": "code",
   "execution_count": 37,
   "metadata": {
    "scrolled": true
   },
   "outputs": [
    {
     "output_type": "execute_result",
     "data": {
      "text/plain": [
       "               year      avg_temp\n",
       "count  71311.000000  68764.000000\n",
       "mean    1905.799007     16.183876\n",
       "std       67.102099      7.592960\n",
       "min     1743.000000    -14.350000\n",
       "25%     1858.000000      9.750000\n",
       "50%     1910.000000     16.140000\n",
       "75%     1962.000000     23.762500\n",
       "max     2013.000000     30.730000"
      ],
      "text/html": "<div>\n<style scoped>\n    .dataframe tbody tr th:only-of-type {\n        vertical-align: middle;\n    }\n\n    .dataframe tbody tr th {\n        vertical-align: top;\n    }\n\n    .dataframe thead th {\n        text-align: right;\n    }\n</style>\n<table border=\"1\" class=\"dataframe\">\n  <thead>\n    <tr style=\"text-align: right;\">\n      <th></th>\n      <th>year</th>\n      <th>avg_temp</th>\n    </tr>\n  </thead>\n  <tbody>\n    <tr>\n      <th>count</th>\n      <td>71311.000000</td>\n      <td>68764.000000</td>\n    </tr>\n    <tr>\n      <th>mean</th>\n      <td>1905.799007</td>\n      <td>16.183876</td>\n    </tr>\n    <tr>\n      <th>std</th>\n      <td>67.102099</td>\n      <td>7.592960</td>\n    </tr>\n    <tr>\n      <th>min</th>\n      <td>1743.000000</td>\n      <td>-14.350000</td>\n    </tr>\n    <tr>\n      <th>25%</th>\n      <td>1858.000000</td>\n      <td>9.750000</td>\n    </tr>\n    <tr>\n      <th>50%</th>\n      <td>1910.000000</td>\n      <td>16.140000</td>\n    </tr>\n    <tr>\n      <th>75%</th>\n      <td>1962.000000</td>\n      <td>23.762500</td>\n    </tr>\n    <tr>\n      <th>max</th>\n      <td>2013.000000</td>\n      <td>30.730000</td>\n    </tr>\n  </tbody>\n</table>\n</div>"
     },
     "metadata": {},
     "execution_count": 37
    }
   ],
   "source": [
    "avg_temp.describe()"
   ]
  },
  {
   "cell_type": "code",
   "execution_count": 38,
   "metadata": {
    "scrolled": true
   },
   "outputs": [
    {
     "output_type": "execute_result",
     "data": {
      "text/plain": [
       "   Year           Area  avg_temp\n",
       "0  1849  Côte D'Ivoire     25.58\n",
       "1  1850  Côte D'Ivoire     25.52\n",
       "2  1851  Côte D'Ivoire     25.67\n",
       "3  1852  Côte D'Ivoire       NaN\n",
       "4  1853  Côte D'Ivoire       NaN"
      ],
      "text/html": "<div>\n<style scoped>\n    .dataframe tbody tr th:only-of-type {\n        vertical-align: middle;\n    }\n\n    .dataframe tbody tr th {\n        vertical-align: top;\n    }\n\n    .dataframe thead th {\n        text-align: right;\n    }\n</style>\n<table border=\"1\" class=\"dataframe\">\n  <thead>\n    <tr style=\"text-align: right;\">\n      <th></th>\n      <th>Year</th>\n      <th>Area</th>\n      <th>avg_temp</th>\n    </tr>\n  </thead>\n  <tbody>\n    <tr>\n      <th>0</th>\n      <td>1849</td>\n      <td>Côte D'Ivoire</td>\n      <td>25.58</td>\n    </tr>\n    <tr>\n      <th>1</th>\n      <td>1850</td>\n      <td>Côte D'Ivoire</td>\n      <td>25.52</td>\n    </tr>\n    <tr>\n      <th>2</th>\n      <td>1851</td>\n      <td>Côte D'Ivoire</td>\n      <td>25.67</td>\n    </tr>\n    <tr>\n      <th>3</th>\n      <td>1852</td>\n      <td>Côte D'Ivoire</td>\n      <td>NaN</td>\n    </tr>\n    <tr>\n      <th>4</th>\n      <td>1853</td>\n      <td>Côte D'Ivoire</td>\n      <td>NaN</td>\n    </tr>\n  </tbody>\n</table>\n</div>"
     },
     "metadata": {},
     "execution_count": 38
    }
   ],
   "source": [
    "avg_temp = avg_temp.rename(index=str, columns={\"year\": \"Year\", \"country\":'Area'})\n",
    "avg_temp.head()"
   ]
  },
  {
   "cell_type": "code",
   "execution_count": 39,
   "metadata": {
    "scrolled": true
   },
   "outputs": [
    {
     "output_type": "execute_result",
     "data": {
      "text/plain": [
       "      Area         Item  Year  hg/ha_yield  average_rain_fall_mm_per_year  \\\n",
       "0  Albania        Maize  1990        36613                         1485.0   \n",
       "1  Albania     Potatoes  1990        66667                         1485.0   \n",
       "2  Albania  Rice, paddy  1990        23333                         1485.0   \n",
       "3  Albania      Sorghum  1990        12500                         1485.0   \n",
       "4  Albania     Soybeans  1990         7000                         1485.0   \n",
       "\n",
       "   pesticides_tonnes  avg_temp  \n",
       "0              121.0     16.37  \n",
       "1              121.0     16.37  \n",
       "2              121.0     16.37  \n",
       "3              121.0     16.37  \n",
       "4              121.0     16.37  "
      ],
      "text/html": "<div>\n<style scoped>\n    .dataframe tbody tr th:only-of-type {\n        vertical-align: middle;\n    }\n\n    .dataframe tbody tr th {\n        vertical-align: top;\n    }\n\n    .dataframe thead th {\n        text-align: right;\n    }\n</style>\n<table border=\"1\" class=\"dataframe\">\n  <thead>\n    <tr style=\"text-align: right;\">\n      <th></th>\n      <th>Area</th>\n      <th>Item</th>\n      <th>Year</th>\n      <th>hg/ha_yield</th>\n      <th>average_rain_fall_mm_per_year</th>\n      <th>pesticides_tonnes</th>\n      <th>avg_temp</th>\n    </tr>\n  </thead>\n  <tbody>\n    <tr>\n      <th>0</th>\n      <td>Albania</td>\n      <td>Maize</td>\n      <td>1990</td>\n      <td>36613</td>\n      <td>1485.0</td>\n      <td>121.0</td>\n      <td>16.37</td>\n    </tr>\n    <tr>\n      <th>1</th>\n      <td>Albania</td>\n      <td>Potatoes</td>\n      <td>1990</td>\n      <td>66667</td>\n      <td>1485.0</td>\n      <td>121.0</td>\n      <td>16.37</td>\n    </tr>\n    <tr>\n      <th>2</th>\n      <td>Albania</td>\n      <td>Rice, paddy</td>\n      <td>1990</td>\n      <td>23333</td>\n      <td>1485.0</td>\n      <td>121.0</td>\n      <td>16.37</td>\n    </tr>\n    <tr>\n      <th>3</th>\n      <td>Albania</td>\n      <td>Sorghum</td>\n      <td>1990</td>\n      <td>12500</td>\n      <td>1485.0</td>\n      <td>121.0</td>\n      <td>16.37</td>\n    </tr>\n    <tr>\n      <th>4</th>\n      <td>Albania</td>\n      <td>Soybeans</td>\n      <td>1990</td>\n      <td>7000</td>\n      <td>1485.0</td>\n      <td>121.0</td>\n      <td>16.37</td>\n    </tr>\n  </tbody>\n</table>\n</div>"
     },
     "metadata": {},
     "execution_count": 39
    }
   ],
   "source": [
    "yield_df = pd.merge(yield_df,avg_temp, on=['Area','Year'])\n",
    "yield_df.head()"
   ]
  },
  {
   "cell_type": "code",
   "execution_count": 40,
   "metadata": {
    "scrolled": false
   },
   "outputs": [
    {
     "output_type": "execute_result",
     "data": {
      "text/plain": [
       "(28242, 7)"
      ]
     },
     "metadata": {},
     "execution_count": 40
    }
   ],
   "source": [
    "yield_df.shape"
   ]
  },
  {
   "cell_type": "code",
   "execution_count": 41,
   "metadata": {},
   "outputs": [
    {
     "output_type": "execute_result",
     "data": {
      "text/plain": [
       "               Year    hg/ha_yield  average_rain_fall_mm_per_year  \\\n",
       "count  28242.000000   28242.000000                    28242.00000   \n",
       "mean    2001.544296   77053.332094                     1149.05598   \n",
       "std        7.051905   84956.612897                      709.81215   \n",
       "min     1990.000000      50.000000                       51.00000   \n",
       "25%     1995.000000   19919.250000                      593.00000   \n",
       "50%     2001.000000   38295.000000                     1083.00000   \n",
       "75%     2008.000000  104676.750000                     1668.00000   \n",
       "max     2013.000000  501412.000000                     3240.00000   \n",
       "\n",
       "       pesticides_tonnes      avg_temp  \n",
       "count       28242.000000  28242.000000  \n",
       "mean        37076.909344     20.542627  \n",
       "std         59958.784665      6.312051  \n",
       "min             0.040000      1.300000  \n",
       "25%          1702.000000     16.702500  \n",
       "50%         17529.440000     21.510000  \n",
       "75%         48687.880000     26.000000  \n",
       "max        367778.000000     30.650000  "
      ],
      "text/html": "<div>\n<style scoped>\n    .dataframe tbody tr th:only-of-type {\n        vertical-align: middle;\n    }\n\n    .dataframe tbody tr th {\n        vertical-align: top;\n    }\n\n    .dataframe thead th {\n        text-align: right;\n    }\n</style>\n<table border=\"1\" class=\"dataframe\">\n  <thead>\n    <tr style=\"text-align: right;\">\n      <th></th>\n      <th>Year</th>\n      <th>hg/ha_yield</th>\n      <th>average_rain_fall_mm_per_year</th>\n      <th>pesticides_tonnes</th>\n      <th>avg_temp</th>\n    </tr>\n  </thead>\n  <tbody>\n    <tr>\n      <th>count</th>\n      <td>28242.000000</td>\n      <td>28242.000000</td>\n      <td>28242.00000</td>\n      <td>28242.000000</td>\n      <td>28242.000000</td>\n    </tr>\n    <tr>\n      <th>mean</th>\n      <td>2001.544296</td>\n      <td>77053.332094</td>\n      <td>1149.05598</td>\n      <td>37076.909344</td>\n      <td>20.542627</td>\n    </tr>\n    <tr>\n      <th>std</th>\n      <td>7.051905</td>\n      <td>84956.612897</td>\n      <td>709.81215</td>\n      <td>59958.784665</td>\n      <td>6.312051</td>\n    </tr>\n    <tr>\n      <th>min</th>\n      <td>1990.000000</td>\n      <td>50.000000</td>\n      <td>51.00000</td>\n      <td>0.040000</td>\n      <td>1.300000</td>\n    </tr>\n    <tr>\n      <th>25%</th>\n      <td>1995.000000</td>\n      <td>19919.250000</td>\n      <td>593.00000</td>\n      <td>1702.000000</td>\n      <td>16.702500</td>\n    </tr>\n    <tr>\n      <th>50%</th>\n      <td>2001.000000</td>\n      <td>38295.000000</td>\n      <td>1083.00000</td>\n      <td>17529.440000</td>\n      <td>21.510000</td>\n    </tr>\n    <tr>\n      <th>75%</th>\n      <td>2008.000000</td>\n      <td>104676.750000</td>\n      <td>1668.00000</td>\n      <td>48687.880000</td>\n      <td>26.000000</td>\n    </tr>\n    <tr>\n      <th>max</th>\n      <td>2013.000000</td>\n      <td>501412.000000</td>\n      <td>3240.00000</td>\n      <td>367778.000000</td>\n      <td>30.650000</td>\n    </tr>\n  </tbody>\n</table>\n</div>"
     },
     "metadata": {},
     "execution_count": 41
    }
   ],
   "source": [
    "yield_df.describe()"
   ]
  },
  {
   "cell_type": "code",
   "execution_count": 42,
   "metadata": {
    "scrolled": true
   },
   "outputs": [
    {
     "output_type": "execute_result",
     "data": {
      "text/plain": [
       "Area                             0\n",
       "Item                             0\n",
       "Year                             0\n",
       "hg/ha_yield                      0\n",
       "average_rain_fall_mm_per_year    0\n",
       "pesticides_tonnes                0\n",
       "avg_temp                         0\n",
       "dtype: int64"
      ]
     },
     "metadata": {},
     "execution_count": 42
    }
   ],
   "source": [
    "yield_df.isnull().sum()"
   ]
  },
  {
   "cell_type": "code",
   "execution_count": 44,
   "metadata": {},
   "outputs": [],
   "source": [
    "yield_df.to_csv('final.csv')"
   ]
  }
 ],
 "metadata": {
  "kernelspec": {
   "name": "python37464bit4a327b2d8a9e41ddac768c1c39e13e47",
   "display_name": "Python 3.8.5 64-bit"
  },
  "language_info": {
   "codemirror_mode": {
    "name": "ipython",
    "version": 3
   },
   "file_extension": ".py",
   "mimetype": "text/x-python",
   "name": "python",
   "nbconvert_exporter": "python",
   "pygments_lexer": "ipython3",
   "version": "3.8.5-final"
  },
  "metadata": {
   "interpreter": {
    "hash": "aee8b7b246df8f9039afb4144a1f6fd8d2ca17a180786b69acc140d282b71a49"
   }
  }
 },
 "nbformat": 4,
 "nbformat_minor": 2
}